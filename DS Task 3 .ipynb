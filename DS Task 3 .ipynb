{
 "cells": [
  {
   "cell_type": "code",
   "execution_count": 2,
   "id": "e1c98426-835c-46bd-85c4-dbcab944de22",
   "metadata": {},
   "outputs": [
    {
     "name": "stdout",
     "output_type": "stream",
     "text": [
      "Dataset Preview:\n",
      "   user_id                   timestamp      group landing_page  converted\n",
      "0   851104  2017-01-21 22:11:48.556739    control     old_page          0\n",
      "1   804228  2017-01-12 08:01:45.159739    control     old_page          0\n",
      "2   661590  2017-01-11 16:55:06.154213  treatment     new_page          0\n",
      "3   853541  2017-01-08 18:28:03.143765  treatment     new_page          0\n",
      "4   864975  2017-01-21 01:52:26.210827    control     old_page          1\n",
      "\n",
      "Missing Values:\n",
      "user_id         0\n",
      "timestamp       0\n",
      "group           0\n",
      "landing_page    0\n",
      "converted       0\n",
      "dtype: int64\n",
      "\n",
      "Summary Statistics:\n",
      "       group  conversion_rate  sample_size    sum\n",
      "0    control         0.120399       147202  17723\n",
      "1  treatment         0.118920       147276  17514\n"
     ]
    },
    {
     "name": "stderr",
     "output_type": "stream",
     "text": [
      "C:\\Users\\mabdu\\AppData\\Local\\Temp\\ipykernel_9984\\3173363552.py:34: FutureWarning: \n",
      "\n",
      "The `ci` parameter is deprecated. Use `errorbar=None` for the same effect.\n",
      "\n",
      "  sns.barplot(x='group', y='converted', data=data, ci=None, palette='viridis')\n",
      "C:\\Users\\mabdu\\AppData\\Local\\Temp\\ipykernel_9984\\3173363552.py:34: FutureWarning: \n",
      "\n",
      "Passing `palette` without assigning `hue` is deprecated and will be removed in v0.14.0. Assign the `x` variable to `hue` and set `legend=False` for the same effect.\n",
      "\n",
      "  sns.barplot(x='group', y='converted', data=data, ci=None, palette='viridis')\n"
     ]
    },
    {
     "data": {
      "image/png": "[encoded data removed]",
      "text/plain": [
       "<Figure size 800x600 with 1 Axes>"
      ]
     },
     "metadata": {},
     "output_type": "display_data"
    },
    {
     "name": "stdout",
     "output_type": "stream",
     "text": [
      "\n",
      "Statistical Analysis Results:\n",
      "T-statistic: nan\n",
      "P-value: nan\n",
      "\n",
      "Conclusion: The difference is not statistically significant. The treatment group does not perform differently from the control group.\n"
     ]
    },
    {
     "ename": "IndexError",
     "evalue": "index 0 is out of bounds for axis 0 with size 0",
     "output_type": "error",
     "traceback": [
      "\u001b[1;31m---------------------------------------------------------------------------\u001b[0m",
      "\u001b[1;31mIndexError\u001b[0m                                Traceback (most recent call last)",
      "Cell \u001b[1;32mIn[2], line 60\u001b[0m\n\u001b[0;32m     56\u001b[0m     \u001b[38;5;28mprint\u001b[39m(\u001b[38;5;124m\"\u001b[39m\u001b[38;5;130;01m\\n\u001b[39;00m\u001b[38;5;124mConclusion: The difference is not statistically significant. The treatment group does not perform differently from the control group.\u001b[39m\u001b[38;5;124m\"\u001b[39m)\n\u001b[0;32m     58\u001b[0m \u001b[38;5;66;03m# Step 6: Optional - Practical Significance\u001b[39;00m\n\u001b[0;32m     59\u001b[0m \u001b[38;5;66;03m# Calculate the absolute and relative lift\u001b[39;00m\n\u001b[1;32m---> 60\u001b[0m absolute_lift \u001b[38;5;241m=\u001b[39m \u001b[43msummary\u001b[49m\u001b[38;5;241;43m.\u001b[39;49m\u001b[43mloc\u001b[49m\u001b[43m[\u001b[49m\u001b[43msummary\u001b[49m\u001b[43m[\u001b[49m\u001b[38;5;124;43m'\u001b[39;49m\u001b[38;5;124;43mgroup\u001b[39;49m\u001b[38;5;124;43m'\u001b[39;49m\u001b[43m]\u001b[49m\u001b[43m \u001b[49m\u001b[38;5;241;43m==\u001b[39;49m\u001b[43m \u001b[49m\u001b[38;5;124;43m'\u001b[39;49m\u001b[38;5;124;43mTreatment\u001b[39;49m\u001b[38;5;124;43m'\u001b[39;49m\u001b[43m,\u001b[49m\u001b[43m \u001b[49m\u001b[38;5;124;43m'\u001b[39;49m\u001b[38;5;124;43mconversion_rate\u001b[39;49m\u001b[38;5;124;43m'\u001b[39;49m\u001b[43m]\u001b[49m\u001b[38;5;241;43m.\u001b[39;49m\u001b[43mvalues\u001b[49m\u001b[43m[\u001b[49m\u001b[38;5;241;43m0\u001b[39;49m\u001b[43m]\u001b[49m \u001b[38;5;241m-\u001b[39m \\\n\u001b[0;32m     61\u001b[0m                 summary\u001b[38;5;241m.\u001b[39mloc[summary[\u001b[38;5;124m'\u001b[39m\u001b[38;5;124mgroup\u001b[39m\u001b[38;5;124m'\u001b[39m] \u001b[38;5;241m==\u001b[39m \u001b[38;5;124m'\u001b[39m\u001b[38;5;124mControl\u001b[39m\u001b[38;5;124m'\u001b[39m, \u001b[38;5;124m'\u001b[39m\u001b[38;5;124mconversion_rate\u001b[39m\u001b[38;5;124m'\u001b[39m]\u001b[38;5;241m.\u001b[39mvalues[\u001b[38;5;241m0\u001b[39m]\n\u001b[0;32m     62\u001b[0m relative_lift \u001b[38;5;241m=\u001b[39m (absolute_lift \u001b[38;5;241m/\u001b[39m summary\u001b[38;5;241m.\u001b[39mloc[summary[\u001b[38;5;124m'\u001b[39m\u001b[38;5;124mgroup\u001b[39m\u001b[38;5;124m'\u001b[39m] \u001b[38;5;241m==\u001b[39m \u001b[38;5;124m'\u001b[39m\u001b[38;5;124mControl\u001b[39m\u001b[38;5;124m'\u001b[39m, \u001b[38;5;124m'\u001b[39m\u001b[38;5;124mconversion_rate\u001b[39m\u001b[38;5;124m'\u001b[39m]\u001b[38;5;241m.\u001b[39mvalues[\u001b[38;5;241m0\u001b[39m]) \u001b[38;5;241m*\u001b[39m \u001b[38;5;241m100\u001b[39m\n\u001b[0;32m     63\u001b[0m \u001b[38;5;28mprint\u001b[39m(\u001b[38;5;124mf\u001b[39m\u001b[38;5;124m\"\u001b[39m\u001b[38;5;130;01m\\n\u001b[39;00m\u001b[38;5;124mAbsolute Lift: \u001b[39m\u001b[38;5;132;01m{\u001b[39;00mabsolute_lift\u001b[38;5;132;01m:\u001b[39;00m\u001b[38;5;124m.4f\u001b[39m\u001b[38;5;132;01m}\u001b[39;00m\u001b[38;5;124m\"\u001b[39m)\n",
      "\u001b[1;31mIndexError\u001b[0m: index 0 is out of bounds for axis 0 with size 0"
     ]
    }
   ],
   "source": [
    "# Import necessary libraries\n",
    "import pandas as pd\n",
    "import numpy as np\n",
    "import matplotlib.pyplot as plt\n",
    "import seaborn as sns\n",
    "from scipy.stats import ttest_ind\n",
    "\n",
    "# Step 1: Load the Dataset\n",
    "file_path = \"C:/Users/mabdu/PycharmProjects/pythonProject/Rhombix DS/ab_data.csv\"\n",
    "data = pd.read_csv(file_path)\n",
    "\n",
    "# Preview the dataset\n",
    "print(\"Dataset Preview:\")\n",
    "print(data.head())\n",
    "\n",
    "# Check for missing values\n",
    "print(\"\\nMissing Values:\")\n",
    "print(data.isnull().sum())\n",
    "\n",
    "# Ensure the dataset has the required columns\n",
    "if 'group' not in data.columns or 'converted' not in data.columns:\n",
    "    raise ValueError(\"The dataset must contain 'group' and 'converted' columns.\")\n",
    "\n",
    "# Step 2: Summarize Data\n",
    "# Calculate conversion rates for each group\n",
    "summary = data.groupby('group')['converted'].agg(['mean', 'count', 'sum']).reset_index()\n",
    "summary.rename(columns={'mean': 'conversion_rate', 'count': 'sample_size'}, inplace=True)\n",
    "print(\"\\nSummary Statistics:\")\n",
    "print(summary)\n",
    "\n",
    "# Step 3: Visualize Data\n",
    "# Plot conversion rates\n",
    "plt.figure(figsize=(8, 6))\n",
    "sns.barplot(x='group', y='converted', data=data, ci=None, palette='viridis')\n",
    "plt.title('Conversion Rates by Group')\n",
    "plt.ylabel('Conversion Rate')\n",
    "plt.xlabel('Group')\n",
    "plt.show()\n",
    "\n",
    "# Step 4: Perform Statistical Analysis\n",
    "# Separate the groups\n",
    "control_group = data[data['group'] == 'Control']['converted']\n",
    "treatment_group = data[data['group'] == 'Treatment']['converted']\n",
    "\n",
    "# Perform a two-sample t-test\n",
    "t_stat, p_value = ttest_ind(treatment_group, control_group, equal_var=False)\n",
    "print(\"\\nStatistical Analysis Results:\")\n",
    "print(f\"T-statistic: {t_stat:.4f}\")\n",
    "print(f\"P-value: {p_value:.4f}\")\n",
    "\n",
    "# Step 5: Determine Statistical Significance\n",
    "alpha = 0.05  # Significance level\n",
    "if p_value < alpha:\n",
    "    print(\"\\nConclusion: The difference is statistically significant. The treatment group performs differently from the control group.\")\n",
    "else:\n",
    "    print(\"\\nConclusion: The difference is not statistically significant. The treatment group does not perform differently from the control group.\")\n",
    "\n",
    "# Step 6: Optional - Practical Significance\n",
    "# Calculate the absolute and relative lift\n",
    "absolute_lift = summary.loc[summary['group'] == 'Treatment', 'conversion_rate'].values[0] - \\\n",
    "                summary.loc[summary['group'] == 'Control', 'conversion_rate'].values[0]\n",
    "relative_lift = (absolute_lift / summary.loc[summary['group'] == 'Control', 'conversion_rate'].values[0]) * 100\n",
    "print(f\"\\nAbsolute Lift: {absolute_lift:.4f}\")\n",
    "print(f\"Relative Lift: {relative_lift:.2f}%\")\n"
   ]
  },
  {
   "cell_type": "code",
   "execution_count": null,
   "id": "933013d7-8537-4cdf-97ee-292a5dd532e6",
   "metadata": {},
   "outputs": [],
   "source": []
  }
 ],
 "metadata": {
  "kernelspec": {
   "display_name": "Python 3 (ipykernel)",
   "language": "python",
   "name": "python3"
  },
  "language_info": {
   "codemirror_mode": {
    "name": "ipython",
    "version": 3
   },
   "file_extension": ".py",
   "mimetype": "text/x-python",
   "name": "python",
   "nbconvert_exporter": "python",
   "pygments_lexer": "ipython3",
   "version": "3.10.4"
  }
 },
 "nbformat": 4,
 "nbformat_minor": 5
}
